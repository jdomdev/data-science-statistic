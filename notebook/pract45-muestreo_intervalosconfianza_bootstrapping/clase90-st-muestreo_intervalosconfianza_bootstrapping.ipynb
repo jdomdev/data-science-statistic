{
 "cells": [
  {
   "cell_type": "markdown",
   "id": "562ea589-86af-41a8-b1ab-4ac56449cf38",
   "metadata": {},
   "source": [
    "# Capítulo 2 - Distribuciones de datos y muestreo"
   ]
  },
  {
   "cell_type": "markdown",
   "id": "12549aae-01c7-47ee-8d25-df2bfc9f0684",
   "metadata": {},
   "source": [
    "## 2.1 Población y muestra"
   ]
  },
  {
   "cell_type": "markdown",
   "id": "27d9279d-b9d9-429d-901d-918a9e35dae0",
   "metadata": {},
   "source": [
    "La siguiente imagen intenta ilustrar la diferencia entre población y muestra:"
   ]
  },
  {
   "cell_type": "markdown",
   "id": "f5379907-db4e-4346-bcfd-e6dcfd18d6b6",
   "metadata": {},
   "source": [
    "![Fig 2.1](../img/2.1.png)"
   ]
  },
  {
   "cell_type": "markdown",
   "id": "1770f39f-8b5b-45af-ac45-8b0b71077dc8",
   "metadata": {},
   "source": [
    "Las estadísticas tradicionales se enfocaban mucho en el lado izquierdo, utilizando teoría basada en supuestos fuertes sobre la población. Las estadísticas modernas se han movido hacia el lado derecho, donde tales suposiciones no son necesarias."
   ]
  },
  {
   "cell_type": "markdown",
   "id": "be8bc5de-123c-458b-85f9-e8b3c030fde1",
   "metadata": {},
   "source": [
    "## 2.2 Muestreo Aleatorio y Sesgo (Bias) en la Muestra\n",
    "\n",
    "Una muestra es un subconjunto de datos de un conjunto de datos más grande; los estadísticos llaman a este conjunto de datos más grande la población. Una población en estadística no es lo mismo que en biología: es un conjunto grande, definido (pero a veces teórico o imaginario) de datos.\n",
    "\n",
    "El muestreo aleatorio es un proceso en el cual cada miembro disponible de la población que se está muestreando tiene la misma posibilidad de ser elegido para la muestra en cada selección. La muestra resultante se llama una **muestra aleatoria simple**. \n",
    "\n",
    "La calidad de los datos a menudo importa más que la cantidad de datos al hacer una estimación o un modelo basado en una muestra. La calidad de los datos en ciencia de datos implica completitud, consistencia de formato, limpieza y precisión de los puntos de datos individuales. La estadística además añade la noción de **representatividad**."
   ]
  },
  {
   "cell_type": "markdown",
   "id": "a02247db-e772-43e4-8366-fff902ed2f97",
   "metadata": {},
   "source": [
    "### 2.2.1 Términos Clave para el Muestreo Aleatorio\n",
    "\n",
    "**Muestra (Sample)**  \n",
    "Un subconjunto de un conjunto de datos más grande.\n",
    "\n",
    "**Población**  \n",
    "El conjunto de datos más grande o la idea de un conjunto de datos.\n",
    "\n",
    "**N (n)**  \n",
    "El tamaño de la población (muestra).\n",
    "\n",
    "**Muestreo aleatorio**  \n",
    "Selección de elementos en una muestra de manera aleatoria.\n",
    "\n",
    "**Muestreo estratificado**  \n",
    "División de la población en estratos y muestreo aleatorio dentro de cada estrato. Por ejemplo: estudiantes de un colegio. Se escogen muestras de cada grado/año. 20 Estudiantes de 1er año, 20 estudiantes del 2do año...\n",
    "\n",
    "**Estrato (pl., estratos)**  \n",
    "Un subgrupo homogéneo de una población con características comunes. Ejemplo: Estudiantes del primer año.\n",
    "\n",
    "**Muestra aleatoria simple**  \n",
    "La muestra que resulta del muestreo aleatorio sin estratificar la población.\n",
    "\n",
    "**Sesgo (Bias)**  \n",
    "Error sistemático.\n",
    "\n",
    "**Sesgo en la muestra (Sample Bias)**  \n",
    "Una muestra que no representa adecuadamente a la población."
   ]
  },
  {
   "cell_type": "markdown",
   "id": "3d8d1c99-0d9e-4f90-9427-9439b29512e1",
   "metadata": {},
   "source": [
    "### 2.2.2 Sesgo de Muestreo por Autoselección\n",
    "\n",
    "Las reseñas de restaurantes, hoteles, cafés, y otros que lees en sitios de redes sociales son propensas al sesgo porque las personas que las envían no son seleccionadas aleatoriamente; más bien, son ellas mismas quienes toman la iniciativa de escribir. Esto conduce a un sesgo de autoselección: las personas motivadas para escribir reseñas pueden haber tenido malas experiencias, pueden tener alguna relación con el establecimiento, o simplemente pueden ser un tipo de persona diferente a las que no escriben reseñas."
   ]
  },
  {
   "cell_type": "markdown",
   "id": "a8bb49f5-11c0-4c67-935b-d1ac6d883a11",
   "metadata": {},
   "source": [
    "### 2.2.3 Sesgo\n",
    "\n",
    "El sesgo estadístico se refiere a errores de medición o de muestreo que son sistemáticos y producidos por el proceso de medición o muestreo. Es importante hacer una distinción entre errores debidos al azar y errores debidos al sesgo. Consideremos el proceso físico de un arma disparando a un blanco. No impactará en el centro absoluto del blanco cada vez, o incluso la mayoría de las veces. Un proceso no sesgado producirá error, pero este será aleatorio y no tenderá fuertemente en ninguna dirección (ver Figura 2.2). "
   ]
  },
  {
   "cell_type": "markdown",
   "id": "5212ef03-4c1e-431f-85f0-bce6f7c9448b",
   "metadata": {},
   "source": [
    "![fig 2.2](../img/2.2.png)"
   ]
  },
  {
   "cell_type": "markdown",
   "id": "531f5ef9-1519-488f-98f6-5d406bdc5e32",
   "metadata": {},
   "source": [
    "Los resultados mostrados en la Figura 2.3 muestran un proceso sesgado: sigue habiendo error aleatorio en ambas direcciones, x e y, pero también hay un sesgo. Los disparos tienden a caer en el cuadrante superior derecho."
   ]
  },
  {
   "cell_type": "markdown",
   "id": "2bd00811-4fba-42c9-89d4-e13de69fd0de",
   "metadata": {},
   "source": [
    "![Fig 2.3](../img/2.3.png)"
   ]
  },
  {
   "cell_type": "markdown",
   "id": "02c56b58-e867-4f76-bb90-b31a8eeb7738",
   "metadata": {},
   "source": [
    "El sesgo se presenta en diferentes formas y puede ser observable o invisible. Cuando un resultado sugiere la presencia de sesgo (por ejemplo, al compararlo con un punto de referencia o valores reales), a menudo es un indicador de que un modelo estadístico o de aprendizaje automático ha sido mal especificado, o que se ha omitido una variable importante.\n"
   ]
  },
  {
   "cell_type": "markdown",
   "id": "a840c8ae-5670-491d-81ac-9bbe1ae218f4",
   "metadata": {},
   "source": [
    "> **Ejercicio 2.1**: *Investigar los tipos de sesgos (Bias) en estadística y aprendizaje automático.* Añade un resumen en este mismo notebook."
   ]
  },
  {
   "cell_type": "markdown",
   "id": "240ca0dd",
   "metadata": {},
   "source": [
    "En estadística y aprendizaje automático, el término \"bias\" (o sesgo) se refiere a una desviación o error sistemático en la estimación o en la toma de decisiones. Los sesgos pueden surgir de diversas fuentes y pueden afectar la precisión y la equidad de los modelos y análisis. Tipos:\n",
    "\n",
    "### **A. Sesgos en Estadística**\n",
    "\n",
    "**1. Sesgo de Selección**:\n",
    "   - **Definición**: Ocurre cuando la muestra utilizada no es representativa de la población de interés. Esto puede suceder si la selección de la muestra es influenciada por algún factor que esté relacionado con la variable que se está estudiando.\n",
    "   - **Ejemplo**: Realizar una encuesta sobre la salud solo entre personas que acuden al hospital puede subestimar la salud general de la población.\n",
    "\n",
    "**2. Sesgo de Información (o Sesgo de Medición)**:\n",
    "   - **Definición**: Sucede cuando los datos recolectados son inexactos o incorrectos, lo que lleva a una mala estimación de los parámetros del estudio.\n",
    "   - **Ejemplo**: Medir la altura de las personas usando una cinta métrica defectuosa introducirá un sesgo en los datos.\n",
    "\n",
    "**3. Sesgo de Supervivencia**:\n",
    "   - **Definición**: Ocurre cuando solo se consideran casos \"sobrevivientes\" o exitosos en un análisis, ignorando aquellos que han fracasado o no han sobrevivido.\n",
    "   - **Ejemplo**: Analizar la vida útil de un producto solo en aquellos que aún están en uso, ignorando los que se han roto.\n",
    "\n",
    "**4. Sesgo de Publicación**:\n",
    "   - **Definición**: Sucede cuando los resultados de estudios que muestran resultados positivos o significativos tienen más probabilidades de ser publicados que aquellos con resultados nulos o negativos.\n",
    "   - **Ejemplo**: Estudios clínicos que muestran efectos positivos de un medicamento son más propensos a ser publicados que aquellos que no muestran efectos.\n",
    "\n",
    "### **B. Sesgos en Aprendizaje Automático**\n",
    "\n",
    "**1. Sesgo de Muestra**:\n",
    "   - **Definición**: Similar al sesgo de selección en estadística, ocurre cuando los datos de entrenamiento no son representativos de la distribución real que el modelo encontrará en producción.\n",
    "   - **Ejemplo**: Entrenar un modelo de reconocimiento facial solo con rostros de una etnia específica puede hacer que el modelo funcione mal con otras etnias.\n",
    "\n",
    "**2. Sesgo de Confirmación**:\n",
    "   - **Definición**: Es la tendencia a buscar, interpretar y recordar información de manera que confirme las creencias preexistentes.\n",
    "   - **Ejemplo**: Si un científico solo incluye en su análisis datos que apoyan su hipótesis, está introduciendo un sesgo de confirmación.\n",
    "\n",
    "**3. Sesgo de Optimismo**:\n",
    "   - **Definición**: Ocurre cuando un modelo de aprendizaje automático es demasiado optimista en su rendimiento, generalmente debido a un sobreajuste a los datos de entrenamiento.\n",
    "   - **Ejemplo**: Un modelo que muestra un rendimiento perfecto en los datos de entrenamiento pero que falla en datos nuevos ha sido influenciado por un sesgo de optimismo.\n",
    "\n",
    "**4. Sesgo de Exclusión**:\n",
    "   - **Definición**: Se refiere a la omisión de características o variables importantes en el modelo de aprendizaje, lo que puede llevar a una interpretación errónea o inexacta.\n",
    "   - **Ejemplo**: Excluir la edad en un modelo que predice enfermedades puede reducir significativamente su precisión.\n",
    "\n",
    "**5. Sesgo Algorítmico**:\n",
    "   - **Definición**: Este sesgo se introduce a través del diseño del modelo o del algoritmo en sí mismo. Puede ocurrir si el algoritmo trata de manera diferente a diferentes grupos debido a las características con las que fue entrenado.\n",
    "   - **Ejemplo**: Un algoritmo de contratación que favorece a candidatos de un género debido a los datos históricos sesgados en los que se entrenó.\n",
    "\n",
    "**6. Sesgo de Observación**:\n",
    "   - **Definición**: Se produce cuando un modelo solo tiene acceso a un subconjunto limitado de la información disponible en el mundo real.\n",
    "   - **Ejemplo**: Entrenar un sistema de recomendación con datos que solo reflejan un período limitado, lo que podría no capturar patrones estacionales o a largo plazo.\n",
    "\n",
    "### **Recomendaciones para Mitigar los Sesgos**\n",
    "\n",
    "**1. Mejorar la recolección de datos**: Asegurarse de que los datos utilizados para entrenar los modelos sean representativos de la población general.\n",
    "   \n",
    "**2. Regularización**: Implementar técnicas de regularización en el modelado para evitar sobreajuste y sesgo de optimismo.\n",
    "   \n",
    "**3. Validación cruzada**: Utilizar técnicas de validación cruzada para evaluar el rendimiento del modelo en diferentes subconjuntos de datos y reducir el sesgo.\n",
    "\n",
    "**4. Aumentar la transparencia**: Documentar y comunicar claramente las decisiones tomadas durante el desarrollo del modelo, incluyendo las posibles fuentes de sesgo y las estrategias utilizadas para mitigarlas.\n",
    "\n",
    "**5. Revisión constante**: Continuar evaluando y ajustando los modelos incluso después de que hayan sido desplegados, para asegurarse de que sigan siendo justos y precisos a medida que se recopilan más datos. "
   ]
  },
  {
   "cell_type": "markdown",
   "id": "7e2fd232",
   "metadata": {},
   "source": [
    "--------------"
   ]
  },
  {
   "cell_type": "markdown",
   "id": "b99178b4-3b19-47db-b67c-b72376021169",
   "metadata": {},
   "source": [
    "> **Ejercicio 2.2**: *Investigar la influencia del sesgo en Machine Learning incluye un caso breve en este mismo notebook.*"
   ]
  },
  {
   "cell_type": "markdown",
   "id": "9e3cd9f9",
   "metadata": {},
   "source": [
    "El sesgo en Machine Learning es un problema crítico que puede afectar significativamente la precisión, equidad y confiabilidad de los modelos. La influencia del sesgo puede manifestarse de diversas formas, desde la recolección de datos hasta la interpretación de los resultados, y puede llevar a decisiones erróneas y perjudiciales en aplicaciones del mundo real.\n",
    "\n",
    "### **1. Influencia del Sesgo en Machine Learning**\n",
    "\n",
    "   - **1.1. Impacto en la Precisión**:\n",
    "      - **Descripción**: Un modelo sesgado puede sobreajustarse a ciertas características de los datos de entrenamiento y fallar al generalizar correctamente en datos nuevos. Esto puede disminuir la precisión del modelo cuando se aplica a diferentes poblaciones o en diferentes contextos.\n",
    "      - **Ejemplo**: Un sistema de reconocimiento facial entrenado principalmente con imágenes de personas de piel clara puede tener dificultades para reconocer rostros de personas de piel más oscura.\n",
    "\n",
    "   - **1.2. Impacto en la Equidad**:\n",
    "      - **Descripción**: El sesgo en los modelos de Machine Learning puede llevar a resultados discriminatorios, favoreciendo a ciertos grupos sobre otros. Esto es especialmente problemático en aplicaciones sensibles como contratación, préstamos o justicia penal.\n",
    "      - **Ejemplo**: Un algoritmo de contratación que prioriza candidatos con un historial similar al de empleados actuales puede perpetuar la falta de diversidad en una empresa.\n",
    "\n",
    "   - **1.3. Impacto en la Confiabilidad**:\n",
    "      - **Descripción**: Los modelos sesgados pueden generar desconfianza entre los usuarios y stakeholders, especialmente si los resultados del modelo parecen injustos o erróneos. La falta de confianza en el modelo puede limitar su adopción y utilidad.\n",
    "      - **Ejemplo**: Un sistema de puntaje crediticio que discrimina a ciertos grupos étnicos podría ser cuestionado y rechazar préstamos a personas que son en realidad buenos pagadores, pero que pertenecen a un grupo minoritario.\n",
    "\n",
    "### **2. Caso Breve: Sesgo en un Algoritmo de Contratación de Amazon**\n",
    "\n",
    "   - **2.1. Hecho**\n",
    "      Un caso conocido de sesgo en Machine Learning ocurrió en 2018 cuando Amazon desarrolló un sistema de inteligencia artificial para ayudar en la contratación de personal. El algoritmo estaba diseñado para revisar currículums y clasificar a los candidatos en función de su idoneidad para un puesto. Sin embargo, el sistema mostró un sesgo significativo contra las mujeres.\n",
    "\n",
    "   - **2.2. Causa del Sesgo**:\n",
    "      El sesgo surgió porque el algoritmo fue entrenado utilizando datos de currículums enviados a la empresa durante un período de diez años, la mayoría de los cuales provenían de hombres, reflejando la composición demográfica histórica de la industria tecnológica. Como resultado, el modelo aprendió a penalizar currículums que contenían la palabra \"mujer\" (por ejemplo, \"líder del club de mujeres\"), y a preferir candidatos masculinos.\n",
    "\n",
    "   - **2.3. Impacto y Consecuencias**:\n",
    "      - **Discriminación**: El algoritmo no solo replicó sino que amplificó el sesgo existente, resultando en la exclusión de candidatas femeninas altamente calificadas.\n",
    "      - **Desconfianza y Crítica**: Cuando se descubrió el sesgo, el sistema fue ampliamente criticado, lo que llevó a Amazon a discontinuar su uso.\n",
    "      - **Aprendizaje**: Este caso subrayó la importancia de asegurar que los datos de entrenamiento sean equilibrados y representativos, y resaltó la necesidad de implementar mecanismos para identificar y mitigar el sesgo en todas las etapas del desarrollo del modelo.\n",
    "\n",
    "### **3. A tener en Cuenta**\n",
    "\n",
    "   - **3.1. Diversidad en Datos de Entrenamiento**: Es crucial utilizar conjuntos de datos diversos y representativos para evitar que el modelo aprenda patrones sesgados.\n",
    "   - **3.2. Monitoreo y Auditoría de Modelos**: Los modelos deben ser auditados regularmente para identificar posibles sesgos y ajustarse según sea necesario.\n",
    "   - **3.3. Transparencia y Explicabilidad**: Las decisiones del modelo deben ser comprensibles y explicables, para que los usuarios puedan confiar en los resultados y detectar posibles sesgos.\n",
    "\n",
    "### **4. Conclusión**\n",
    "\n",
    "El sesgo en Machine Learning es un problema complejo pero manejable. A través de la implementación de buenas prácticas en la recolección de datos, diseño de modelos y evaluación continua, es posible desarrollar sistemas más justos y precisos. Casos como el de Amazon destacan la importancia de abordar el sesgo de manera proactiva para evitar consecuencias negativas en aplicaciones del mundo real."
   ]
  },
  {
   "cell_type": "markdown",
   "id": "083a82f7",
   "metadata": {},
   "source": [
    "Otro ejemplo notable de sesgo en Machine Learning es el caso del **algoritmo de predicción de riesgo penal de COMPAS (Correctional Offender Management Profiling for Alternative Sanctions)**.\n",
    "\n",
    "### **Caso: Sesgo en el Algoritmo COMPAS**\n",
    "\n",
    "#### **Descripción**:\n",
    "COMPAS es un sistema utilizado en el sistema de justicia penal de los Estados Unidos para evaluar la probabilidad de que un acusado vuelva a cometer un delito (riesgo de reincidencia). Este algoritmo se utiliza para ayudar a jueces a tomar decisiones sobre fianzas, sentencias y libertad condicional.\n",
    "\n",
    "#### **Causa del Sesgo**:\n",
    "Una investigación realizada en 2016 por ProPublica reveló que COMPAS tenía un sesgo racial significativo. El algoritmo tendía a predecir incorrectamente que los acusados afroamericanos tenían un alto riesgo de reincidencia a una tasa más alta que los acusados blancos. En contraste, también predijo erróneamente que los acusados blancos tenían un bajo riesgo de reincidencia con mayor frecuencia que los acusados afroamericanos.\n",
    "\n",
    "#### **Impacto y Consecuencias**:\n",
    "- **Discriminación**: El sesgo del algoritmo llevó a que muchos afroamericanos fueran tratados de manera más severa en comparación con los blancos en situaciones similares, lo que generó decisiones judiciales injustas y desproporcionadas.\n",
    "- **Controversia y Crítica**: Este hallazgo generó una fuerte controversia sobre el uso de algoritmos en el sistema de justicia penal, cuestionando la equidad y la ética de delegar decisiones críticas a sistemas automatizados.\n",
    "- **Revisión y Reformas**: La revelación del sesgo en COMPAS impulsó discusiones sobre la necesidad de mayor transparencia en los algoritmos utilizados por el gobierno y de mecanismos para mitigar sesgos, así como sobre la importancia de revisar continuamente los sistemas utilizados en contextos de alta sensibilidad como la justicia penal."
   ]
  },
  {
   "cell_type": "markdown",
   "id": "9a9bd285",
   "metadata": {},
   "source": [
    "-------------"
   ]
  },
  {
   "cell_type": "markdown",
   "id": "4cd378fc-07b4-430f-a592-60491de26273",
   "metadata": {},
   "source": [
    "### 2.2.4 Selección Aleatoria\n",
    "\n",
    "Para evitar el problema de sesgo en la muestra que llevó al *Literary Digest* a predecir __la victoria de Landon sobre Roosevelt__, George Gallup optó por métodos seleccionados de manera más científica para lograr una muestra que fuera representativa del electorado votante de los Estados Unidos. Actualmente, existe una variedad de métodos para lograr la representatividad, pero en el corazón de todos ellos se encuentra el muestreo aleatorio.\n",
    "\n",
    "El muestreo aleatorio no siempre es fácil. La definición adecuada de una población accesible es clave. Supongamos que queremos generar un perfil representativo de clientes y necesitamos realizar una encuesta piloto. La encuesta necesita ser representativa, pero también es laboriosa.\n",
    "\n",
    "__Primero__, necesitamos __definir qué es un cliente__. Podríamos seleccionar todos los registros de clientes donde la cantidad de compra sea mayor que 0. \n",
    "\n",
    "__Luego__, necesitamos __especificar un procedimiento de muestreo__. Podría ser \"seleccionar 100 clientes al azar\". Cuando se trata de muestrear un flujo (por ejemplo, transacciones de clientes en tiempo real o visitantes web), las consideraciones de tiempo pueden ser importantes (por ejemplo, un visitante web a las 10 a.m. en un día laborable puede ser diferente de un visitante web a las 10 p.m. en un fin de semana).\n",
    "\n",
    "En el muestreo estratificado, la población se divide en estratos, y se toman muestras aleatorias de cada estrato. Los encuestadores políticos podrían buscar conocer las preferencias electorales de blancos, negros e hispanos. Una muestra aleatoria simple tomada de la población podría arrojar muy pocos negros e hispanos, por lo que esos estratos podrían tener un peso mayor en el muestreo estratificado para obtener tamaños de muestra equivalentes."
   ]
  },
  {
   "cell_type": "markdown",
   "id": "7bd367fd-c0a9-4772-851a-bbf5b41b6ccc",
   "metadata": {},
   "source": [
    "### 2.2.5 Tamaño versus Calidad: ¿Cuándo Importa el Tamaño?\n",
    "\n",
    "En la era del big data, a veces resulta sorprendente que lo pequeño sea mejor. El tiempo y el esfuerzo dedicados al muestreo aleatorio no solo reducen el sesgo, sino que también permiten prestar más atención a la exploración de datos y a la calidad de los datos. Por ejemplo, los datos faltantes y los valores atípicos pueden contener información útil. Podría ser prohibitivo rastrear valores faltantes o evaluar valores atípicos en millones de registros, pero hacerlo en una muestra de varios miles de registros puede ser factible. La representación gráfica de datos y la inspección manual se vuelven más difíciles si hay demasiados datos."
   ]
  },
  {
   "cell_type": "markdown",
   "id": "35ee975e-ed4c-4182-833d-8a96b95d6719",
   "metadata": {},
   "source": [
    "#### Ejemplo de Importancia de la Calidad versus el Tamaño de los Datos\n",
    "\n",
    "Imaginemos que una empresa de comercio electrónico quiere analizar la satisfacción de sus clientes después de realizar una compra. La empresa tiene acceso a millones de registros de transacciones, pero solo un pequeño porcentaje de esos clientes ha dejado comentarios o calificaciones sobre su experiencia. La empresa podría estar tentada a utilizar todos los registros disponibles para su análisis, pero aquí es donde surge el problema de la calidad frente al tamaño.\n",
    "\n",
    "Supongamos que en lugar de utilizar todos los registros, la empresa decide centrarse en una muestra más pequeña, pero representativa, de aquellos clientes que han dejado comentarios detallados y han respondido a encuestas post-compra. Esta muestra podría incluir solo unos pocos miles de clientes, pero los datos son mucho más ricos en detalles: contienen información específica sobre lo que les gustó o no les gustó, problemas que encontraron, y sugerencias para mejorar.\n",
    "\n",
    "Con esta muestra de alta calidad, la empresa puede identificar patrones específicos de satisfacción o insatisfacción que no serían evidentes en un análisis de todos los registros de transacciones, que carecen de este nivel de detalle. Por ejemplo, podrían descubrir que los clientes que compran un tipo específico de producto tienen problemas recurrentes con el proceso de envío. Este tipo de información es crucial para mejorar la experiencia del cliente.\n",
    "\n",
    "En este caso, enfocarse en la calidad de los datos (comentarios detallados) en lugar de la cantidad total de registros permite a la empresa tomar decisiones más informadas y específicas para mejorar la satisfacción del cliente. Aunque la muestra es más pequeña, es mucho más útil que analizar una gran cantidad de datos superficiales que no proporcionan la misma profundidad de conocimiento.\n"
   ]
  },
  {
   "cell_type": "markdown",
   "id": "9638deb7-988f-41df-a603-29b7ed31bd92",
   "metadata": {},
   "source": [
    "### 2.2.6 Media Muestral versus Media Poblacional\n",
    "\n",
    "El símbolo x̄ (pronunciado \"x-barra\") se utiliza para representar la media de una muestra de una población, mientras que μ se utiliza para representar la media de una población. ¿Por qué hacer la distinción? La información sobre muestras se observa, y la información sobre grandes poblaciones a menudo se infiere a partir de muestras más pequeñas. \n",
    "\n",
    "### Ideas Clave\n",
    "- Incluso en la era del big data, el __muestreo aleatorio__ sigue siendo una herramienta importante en el arsenal del científico de datos.\n",
    "- El __sesgo__ ocurre cuando las mediciones u observaciones están sistemáticamente en error porque no son representativas de la población completa.\n",
    "- La __calidad de los datos__ es a menudo __más importante que__ la __cantidad de datos__, y el muestreo aleatorio puede reducir el sesgo y facilitar la mejora de la calidad que, de otro modo, sería prohibitivamente costosa."
   ]
  },
  {
   "cell_type": "markdown",
   "id": "5de26ea8-0423-48cb-b3d8-beccc05d68b9",
   "metadata": {},
   "source": [
    "### 2.2.7 Regresión a la Media\n",
    "\n",
    "La regresión a la media se refiere a un fenómeno que involucra mediciones sucesivas en una variable dada: las observaciones extremas tienden a ser seguidas por otras más cercanas a la media. Dar un enfoque especial y significado a un valor extremo puede llevar a una forma de sesgo de selección.\n",
    "\n",
    "Los aficionados al deporte están familiarizados con el fenómeno del “novato del año y la caída del segundo año”. Entre los atletas que comienzan su carrera en una temporada dada (la clase de novatos), siempre hay uno que se desempeña mejor que todos los demás. Generalmente, este “novato del año” no tiene un rendimiento tan bueno en su segundo año. ¿Por qué ocurre esto?\n",
    "\n",
    "En casi todos los deportes principales, al menos aquellos que se juegan con una pelota o disco, hay dos elementos que juegan un papel en el rendimiento general:\n",
    "- Habilidad\n",
    "- Suerte\n",
    "\n",
    "La regresión a la media es una consecuencia de una forma particular de sesgo de selección. Cuando seleccionamos al novato con el mejor desempeño, probablemente estén contribuyendo tanto la habilidad como la buena suerte. En su próxima temporada, la habilidad seguirá ahí, pero muy a menudo la suerte no, por lo que su rendimiento disminuirá—se \"regresará\" a la media. El fenómeno fue identificado por primera vez por Francis Galton en 1886 [Galton-1886], quien escribió sobre él en relación con tendencias genéticas; por ejemplo, los hijos de hombres extremadamente altos tienden a no ser tan altos como su padre.Ver figura 2.4"
   ]
  },
  {
   "cell_type": "markdown",
   "id": "2781a738-2f38-463a-b2d4-6ffb11cb9b7c",
   "metadata": {},
   "source": [
    "![Fig. 2.4](../img/2.4.png)"
   ]
  },
  {
   "cell_type": "markdown",
   "id": "17ce9d8d-4a3a-415d-896a-0037cec8d3c9",
   "metadata": {},
   "source": [
    "Para investigar la relación entre la estatura de padres e hijos, Galton comparó la estatura de 930 niños que habían alcanzado la edad adulta con la estatura media de sus padres.Para tener en cuenta las diferencias debidas al sexo, multiplicó por 1,08 la estatura de las mujeres.  \n",
    "\n",
    "La figura anterior es una réplica de este gráfico, en el que los círculos azules representan la altura de cada niño comparada con la altura media de sus dos padres (que Galton describió como la \"altura media de los padres\").Galton agrupó los resultados en intervalos de 2,5 cm, lo que significa que muchos puntos aparecen uno encima de otro.  Siguiendo el planteamiento de Stephen Senn en su artículo Significance sobre Galton, cada punto se ha desplazado una cantidad muy pequeña en ambas direcciones para separar los puntos superpuestos entre sí, de modo que sea más fácil visualizar dónde hay muchas observaciones trazadas en el mismo punto. Cuando Galton examinó este gráfico descubrió un resultado sorprendente. Si la estatura media de un niño fuera la misma que la de sus padres, cabría esperar que los datos siguieran la línea negra de la figura anterior.Sin embargo, al trazar la línea de mejor ajuste a través de los datos (línea discontinua roja), descubrió que los datos no seguían esta línea negra y que la pendiente del ajuste por mínimos cuadrados era, de hecho, menos pronunciada.  \n",
    "\n",
    "Este fenómeno estadístico se conoce como regresión a la media y se produce cuando se realizan mediciones repetidas.Significa que, en general, las observaciones relativamente altas (o bajas) suelen ir seguidas de otras menos extremas más cercanas a la media real del sujeto.La regresión a la media sigue siendo un fenómeno estadístico importante que a menudo no se tiene en cuenta y que puede dar lugar a conclusiones engañosas.Por ejemplo, las estadísticas oficiales publicadas sobre el impacto de los radares de velocidad sugerían que salvaban una media de 100 vidas al año.Este resultado se basaba en el descenso de accidentes mortales que se había producido desde la instalación de los radares.Sin embargo, los radares de velocidad suelen instalarse después de que se haya producido un número inusualmente alto de accidentes, por lo que, en general, cabría esperar que estos volvieran después a niveles normales. Otro análisis que tuvo en cuenta la regresión a la media descubrió que el 50% del descenso de los accidentes se habría producido tanto si se hubiera instalado un radar de velocidad como si no.Esto pone de relieve que, aunque los radares de velocidad pueden reducir el número de accidentes mortales en carretera, la estimación de la magnitud de su efecto debe hacerse con cuidado.  \n"
   ]
  },
  {
   "cell_type": "markdown",
   "id": "6bdf812e-859c-4137-9936-3ba5924f84f9",
   "metadata": {},
   "source": [
    "### Ejemplo en negocios.  \n",
    "\n",
    "Imaginemos una cadena de tiendas de ropa que realiza un seguimiento de las ventas mensuales en todas sus sucursales. Supongamos que una de las tiendas tuvo un mes extraordinariamente bueno, con ventas muy por encima del promedio. La gerencia podría pensar que esta tienda ha encontrado alguna fórmula mágica para el éxito y podrían esperar que continúe con este rendimiento en los meses siguientes.\n",
    "\n",
    "Sin embargo, es probable que el siguiente mes las ventas de esta tienda vuelvan a un nivel más cercano al promedio de todas las tiendas. Esto puede deberse a varios factores, como una promoción especial, un evento local que aumentó temporalmente el tráfico de clientes, o simplemente buena suerte. Este fenómeno es un ejemplo de regresión a la media: después de un rendimiento extremo (en este caso, ventas muy altas), es más probable que los resultados posteriores sean más cercanos a la media general."
   ]
  },
  {
   "cell_type": "markdown",
   "id": "b1c4a344-0694-464e-98d8-56e4281cbdf0",
   "metadata": {},
   "source": [
    "### Ejemplo en aprendizaje automático"
   ]
  },
  {
   "cell_type": "markdown",
   "id": "3f6b73cf-2648-4274-9bf0-bd5dddb54e4d",
   "metadata": {},
   "source": [
    "Supongamos que se entrena un modelo de clasificación para predecir si un cliente comprará o no un producto basado en ciertos datos de comportamiento. Durante el proceso de evaluación, se realiza una prueba en un conjunto de datos de validación, y el modelo obtiene una precisión extremadamente alta, mucho mayor que la obtenida en otras pruebas anteriores.\n",
    "\n",
    "Es tentador pensar que el modelo es excepcionalmente bueno, pero esta alta precisión podría ser un resultado fortuito debido a la particularidad de ese conjunto de validación (quizás el conjunto de datos era más fácil de predecir por casualidad). Al probar el modelo en otros conjuntos de datos adicionales o en datos nuevos, es probable que la precisión vuelva a un nivel más cercano al promedio obtenido anteriormente. Este es un caso de regresión a la media en aprendizaje automático: después de un rendimiento extremo, los resultados posteriores tienden a ser más cercanos a la media de los resultados anteriores."
   ]
  },
  {
   "cell_type": "markdown",
   "id": "96213423-1843-410f-bfeb-5d55ebe40519",
   "metadata": {},
   "source": [
    "> **Ejercicio 2.3** Supongamos que tienes los resultados de dos exámenes de matemáticas de un grupo de 100 estudiantes. El primer examen se realizó al inicio del semestre y el segundo examen al final del semestre. Queremos analizar si existe una regresión a la media entre los resultados de estos dos exámenes.\n",
    "\n",
    "> Observa los resultados en el gráfico (ejecute el código). Compara los estudiantes que obtuvieron puntuaciones extremadamente altas o bajas en el primer examen con sus puntuaciones en el segundo examen. ¿Notas alguna tendencia hacia el promedio en sus puntuaciones?"
   ]
  },
  {
   "cell_type": "markdown",
   "id": "8026f1f7-b0d5-4f7f-a451-c2b8e8893725",
   "metadata": {},
   "source": [
    "```python\n",
    "import matplotlib.pyplot as plt\n",
    "import numpy as np\n",
    "\n",
    "# Simulación de resultados de exámenes\n",
    "np.random.seed(42)\n",
    "exam1_scores = np.random.normal(70, 15, 100)  # Puntuaciones del primer examen\n",
    "exam2_scores = exam1_scores * 0.5 + np.random.normal(35, 10, 100)  # Puntuaciones del segundo examen con regresión a la media\n",
    "\n",
    "# Crear el gráfico\n",
    "plt.figure(figsize=(8, 6))\n",
    "plt.scatter(exam1_scores, exam2_scores, color='blue', alpha=0.6)\n",
    "plt.plot([30, 110], [30, 110], color='red', linestyle='--')  # Línea de referencia (sin regresión)\n",
    "plt.title('Regresión a la Media en Resultados de Exámenes')\n",
    "plt.xlabel('Puntuación en el Primer Examen')\n",
    "plt.ylabel('Puntuación en el Segundo Examen')\n",
    "plt.grid(True)\n",
    "plt.show()\n",
    "\n",
    "```\n"
   ]
  },
  {
   "cell_type": "code",
   "execution_count": 3,
   "id": "816db559",
   "metadata": {},
   "outputs": [
    {
     "data": {
      "image/png": "[encoded data removed]",
      "text/plain": [
       "<Figure size 800x600 with 1 Axes>"
      ]
     },
     "metadata": {},
     "output_type": "display_data"
    }
   ],
   "source": [
    "import matplotlib.pyplot as plt\n",
    "import numpy as np\n",
    "\n",
    "# Simulación de resultados de exámenes\n",
    "np.random.seed(42)\n",
    "# Puntuaciones del primer examen\n",
    "exam1_scores = np.random.normal(70, 15, 100)\n",
    "# Puntuaciones del segundo examen con regresión a la media\n",
    "exam2_scores = exam1_scores * 0.5 + np.random.normal(35, 10, 100)\n",
    "\n",
    "# Crear el gráfico\n",
    "plt.figure(figsize=(8, 6))\n",
    "plt.scatter(exam1_scores, exam2_scores, color='blue', alpha=0.6)\n",
    "# Línea de referencia (sin regresión)\n",
    "plt.plot([30, 110], [30, 110], color='red', linestyle='--')  \n",
    "plt.title('Regresión a la Media en Resultados de Exámenes')\n",
    "plt.xlabel('Puntuación en el Primer Examen')\n",
    "plt.ylabel('Puntuación en el Segundo Examen')\n",
    "plt.grid(True)\n",
    "plt.show()"
   ]
  },
  {
   "cell_type": "markdown",
   "id": "2d2802be-2619-4464-862c-3df0bfc1a834",
   "metadata": {},
   "source": [
    "> a. ¿Qué observas en el gráfico en términos de regresión a la media?\n",
    "\n",
    "> b. ¿Por qué crees que los estudiantes que obtuvieron puntuaciones extremadamente altas o bajas en el primer examen tienden a acercarse más al promedio en el segundo examen?\n",
    "\n",
    "> c. ¿Cómo podría este concepto aplicarse en otras áreas, como en el análisis de rendimiento en deportes o en la predicción de ventas?"
   ]
  },
  {
   "cell_type": "markdown",
   "id": "7b2617c7",
   "metadata": {},
   "source": [
    "__> a. ¿Qué observas en el gráfico en términos de regresión a la media?__"
   ]
  },
  {
   "cell_type": "markdown",
   "id": "46a0d51c",
   "metadata": {},
   "source": [
    "- La __proporción más importante__ de valores tienden a agruparse en torno a la '__línea de identidad__'('x = y')\n",
    "- Encontramos __menos valores extremos__ en el primer examen que en el segundo\n",
    "- Las puntuaciones mas extremas en el primer examen __tienden a acercarse al promedio__, tanto si son muy altas o muy bajas, aunque éstas, como se ha indicado, representan un número menor de registros\n",
    "- Las puntuaciones __altas en el primer examen empeoran en el segundo y viceversa__\n",
    "- Hay una __alta densidad__ de puntos en la región cercana a la intersección __entre 60 y 80__ en ambos ejes, lo que sugiere que la mayoría de los estudiantes tienden a puntuar alrededor de estas cifras, con menor variabilidad en torno al promedio"
   ]
  },
  {
   "cell_type": "markdown",
   "id": "fa7dcc2f",
   "metadata": {},
   "source": [
    "__> b. ¿Por qué crees que los estudiantes que obtuvieron puntuaciones extremadamente altas o bajas en el primer examen tienden a acercarse más al promedio en el segundo examen?__"
   ]
  },
  {
   "cell_type": "markdown",
   "id": "eddabfcc",
   "metadata": {},
   "source": [
    "- Los resultados de los exámenes están influenciados por __factores aleatorios__, como el nivel de dificultad del examen, el estado emocional del estudiante o incluso la suerte. Por eso, si un estudiante obtuvo una puntuación muy alta en el primer examen debido a una combinación de preparación y suerte, es probable que la puntuación en el segundo examen sea más promedio porque es menos problable que se vuelvan a producir esos mismos factores aleatorios.\n",
    "\n",
    "- La regresión a la media es un fenómeno estadístico natural que ocurre cuando las mediciones extremas se ven seguidas por mediciones más cercanas al promedio, simplemente porque es improbable que una secuencia de valores extremos se mantenga sin variación(__corrección estadística__)"
   ]
  },
  {
   "cell_type": "markdown",
   "id": "d27fe604",
   "metadata": {},
   "source": [
    "__> c. ¿Cómo podría este concepto aplicarse en otras áreas, como en el análisis de rendimiento en deportes o en la predicción de ventas?__"
   ]
  },
  {
   "cell_type": "markdown",
   "id": "1a515cf5",
   "metadata": {},
   "source": [
    "- __Rendimiento en deportes__: Si un atleta tiene una actuación estelar en un evento deportivo (un jugador de baloncesto anota 50 puntosen un partido), es probable que en futuros juegos su desempeño vuelva a acercarse a su nivel promedio(25 por ejemplo). Es decir, no es sostenible esperar que siempre tenga un rendimiento extremadamente alto o bajo, ya que muchos factores (fatiga, condiciones externas, etc.) afectan su rendimiento.\n",
    "\n",
    "- __Predicción de ventas__: Si un negocio experimenta un pico inesperadamente alto o bajo en las ventas durante un periodo específico (por un descuento temporal), es probable que las ventas en periodos futuros vuelvan a valores más normales o promedio. Las fluctuaciones extremas suelen ser eventos excepcionales que no se repiten constantemente, por lo que las predicciones a largo plazo deben considerar una regresión hacia el promedio."
   ]
  },
  {
   "cell_type": "markdown",
   "id": "0544f876-39b6-4fa4-9b99-a34f4454633b",
   "metadata": {},
   "source": [
    "\n",
    "### Ideas Clave\n",
    "- Especificar una hipótesis y luego recopilar datos siguiendo los principios de aleatorización y muestreo aleatorio asegura contra el sesgo.\n",
    "- La regresión a la media, que significa \"volver atrás\", es distinta del método de modelado estadístico de regresión lineal, en el cual se estima una relación lineal entre variables predictoras y una variable de resultado.\n"
   ]
  },
  {
   "cell_type": "markdown",
   "id": "28975bef-a070-4259-89a6-e2186fb288ae",
   "metadata": {},
   "source": [
    "## 2.3 Distribución Muestral de una Estadística\n",
    "\n",
    "El término \"distribución muestral de una estadística\" se refiere a la distribución de una estadística muestral sobre muchas muestras tomadas de la misma población. Gran parte de la estadística clásica se ocupa de hacer inferencias de (pequeñas) muestras a (muy grandes) poblaciones.\n",
    "\n",
    "### Términos Clave para la Distribución Muestral\n",
    "\n",
    "**Estadística muestral**  \n",
    "Una métrica calculada para una muestra de datos extraída de una población más grande.\n",
    "\n",
    "**Distribución de datos**  \n",
    "La distribución de frecuencias de valores individuales en un conjunto de datos.\n",
    "\n",
    "**Distribución muestral**  \n",
    "La distribución de frecuencias de una estadística muestral sobre muchas muestras o resamples.\n",
    "\n",
    "**Teorema del límite central**  \n",
    "La tendencia de la distribución muestral a adoptar una forma normal a medida que aumenta el tamaño de la muestra.\n",
    "\n",
    "**Error estándar**  \n",
    "La variabilidad (desviación estándar) de una estadística muestral en muchas muestras (no debe confundirse con la desviación estándar, que por sí sola se refiere a la variabilidad de valores individuales de datos).\n",
    "\n",
    "### Explicaciones Adicionales\n",
    "\n",
    "Típicamente, se toma una muestra con el objetivo de medir algo (con una estadística muestral) o modelar algo (con un modelo estadístico o de aprendizaje automático). Dado que nuestra estimación o modelo se basa en una muestra, podría tener errores; podría ser diferente si tomáramos una muestra diferente. Por lo tanto, nos interesa saber qué tan diferente podría ser: una preocupación clave es la variabilidad muestral. Si tuviéramos muchos datos, podríamos tomar muestras adicionales y observar directamente la distribución de una estadística muestral.\n",
    "\n",
    "Es importante distinguir entre la distribución de los puntos de datos individuales, conocida como la distribución de datos, y la distribución de una estadística muestral, conocida como la distribución muestral.\n",
    "\n",
    "Esto se ilustra en un ejemplo usando el ingreso anual de los solicitantes de préstamos de LendingClub.  \n",
    "La tabla 2.1 muestra algunos registros de datos de préstamos personales de LendingClub. LendingClub es un líder en préstamos entre personas (peer-to-peer lending), donde grupos de inversionistas otorgan préstamos personales a individuos.\n"
   ]
  },
  {
   "cell_type": "markdown",
   "id": "5bc7d21b-6226-4914-ac4c-5ce494748068",
   "metadata": {},
   "source": [
    "**Table 2.1. Algunos registros y columnas de datos de préstamos de LendingClub**\n",
    "\n",
    "| **Outcome** | **Loan amount** | **Income** | **Purpose**            | **Years employed** | **Home ownership** | **State** |\n",
    "|-------------|-----------------|------------|------------------------|--------------------|-------------------|-----------|\n",
    "| Paid off    | 10000           | 79100      | debt_consolidation     | 11                 | MORTGAGE          | NV        |\n",
    "| Paid off    | 9600            | 48000      | moving                 | 5                  | MORTGAGE          | TN        |\n",
    "| Paid off    | 18800           | 120036     | debt_consolidation     | 11                 | MORTGAGE          | MD        |\n",
    "| Default     | 15250           | 232000     | small_business         | 9                  | MORTGAGE          | CA        |\n",
    "| Paid off    | 17050           | 35000      | debt_consolidation     | 4                  | RENT              | MD        |\n",
    "| Paid off    | 5500            | 43000      | debt_consolidation     | 4                  | RENT              | KS        |\n"
   ]
  },
  {
   "cell_type": "markdown",
   "id": "adf94e03-8cd5-4b9a-9f9e-e632a193a5d0",
   "metadata": {},
   "source": [
    "\n",
    "A continuación se presenta una explicación de lo que representa cada columna en la tabla de datos de LendingClub:\n",
    "\n",
    "- **Outcome**: Indica el resultado del préstamo. Puede tener dos valores principales:\n",
    "  - **Paid off**: Significa que el préstamo fue pagado en su totalidad por el prestatario.\n",
    "  - **Default**: Significa que el prestatario incumplió y no pudo pagar el préstamo según lo acordado.\n",
    "\n",
    "- **Loan amount**: Representa la cantidad de dinero (en dólares) que fue prestada al individuo.\n",
    "\n",
    "- **Income**: Indica el ingreso anual del prestatario en dólares. Este dato se utiliza para evaluar la capacidad del prestatario para devolver el préstamo.\n",
    "\n",
    "- **Purpose**: Describe el propósito o razón por la cual el prestatario solicitó el préstamo. Ejemplos comunes incluyen:\n",
    "  - **debt_consolidation**: El prestatario solicitó el préstamo para consolidar deudas existentes.\n",
    "  - **moving**: El préstamo fue solicitado para cubrir gastos de mudanza.\n",
    "  - **small_business**: El prestatario solicitó el préstamo para financiar un pequeño negocio.\n",
    "\n",
    "- **Years employed**: Indica la cantidad de años que el prestatario ha estado empleado. Este dato es relevante para evaluar la estabilidad laboral del prestatario.\n",
    "\n",
    "- **Home ownership**: Describe el estado de propiedad de la vivienda del prestatario. Los valores comunes incluyen:\n",
    "  - **MORTGAGE**: El prestatario tiene una hipoteca sobre su vivienda.\n",
    "  - **RENT**: El prestatario vive en una vivienda alquilada.\n",
    "\n",
    "- **State**: Indica el estado de los Estados Unidos en el que reside el prestatario, usando abreviaturas de dos letras (por ejemplo, **NV** para Nevada, **CA** para California).\n",
    "\n",
    "Estas columnas proporcionan información clave que se puede utilizar para evaluar la solvencia del prestatario y el riesgo asociado al préstamo.\n"
   ]
  },
  {
   "cell_type": "markdown",
   "id": "cea90f70-076e-462c-8c86-56cef6387f8b",
   "metadata": {},
   "source": [
    "Una vez claro el significado de la tabla, vamos a tomar tres muestras de estos datos:  \n",
    "- una muestra de 1,000 valores: simplemente se seleccionarán 1,000 registros individuales de la tabla de datos de préstamos.\n",
    "  \n",
    "- una muestra de 1,000 medias de 5 valores: en lugar de tomar 1,000 registros individuales, se tomarán grupos de 5 registros y se calculará la media (promedio) de un valor específico en cada grupo (por ejemplo, la media del ingreso). Este proceso se repetirá hasta tener 1,000 medias, cada una calculada a partir de un grupo de 5 valores. Este enfoque nos permite observar cómo se comporta la media de pequeños grupos de datos en lugar de observar solo los valores individuales.\n",
    "  \n",
    "- una muestra de 1,000 medias de 20 valores: similar al anterior, pero en lugar de tomar grupos de 5 registros, se tomarán grupos de 20 registros. Nuevamente, se calculará la media para cada grupo y se repetirán los cálculos hasta obtener 1,000 medias, cada una basada en 20 valores. Este tipo de muestra nos da una idea de cómo la media de un tamaño de muestra más grande se comporta en comparación con la media de muestras más pequeñas (en este caso, de 5 valores).\n",
    "  \n",
    "Luego, se hace el histograma de cada muestra para producir la gráfica correspondiente."
   ]
  },
  {
   "cell_type": "code",
   "execution_count": 6,
   "id": "a02def80-478f-4667-b931-dbbd3d7676da",
   "metadata": {},
   "outputs": [
    {
     "name": "stdout",
     "output_type": "stream",
     "text": [
      "        income  type\n",
      "45293  72000.0  Data\n",
      "42993  93000.0  Data\n",
      "29339  87500.0  Data\n",
      "37329  69370.0  Data\n",
      "7852   35000.0  Data\n"
     ]
    }
   ],
   "source": [
    "import pandas as pd\n",
    "import numpy as np\n",
    "from scipy import stats\n",
    "from sklearn.utils import resample\n",
    "\n",
    "import seaborn as sns\n",
    "import matplotlib.pylab as plt\n",
    "\n",
    "loans_income = pd.read_csv('loans_income.csv').squeeze('columns')\n",
    "\n",
    "sample_data = pd.DataFrame({\n",
    "    'income': loans_income.sample(1000),\n",
    "    'type': 'Data',\n",
    "})\n",
    "\n",
    "sample_mean_05 = pd.DataFrame({\n",
    "    'income': [loans_income.sample(5).mean() for _ in range(1000)],\n",
    "    'type': 'Mean of 5',\n",
    "})\n",
    "\n",
    "sample_mean_20 = pd.DataFrame({\n",
    "    'income': [loans_income.sample(20).mean() for _ in range(1000)],\n",
    "    'type': 'Mean of 20',\n",
    "})\n",
    "\n",
    "results = pd.concat([sample_data, sample_mean_05, sample_mean_20])\n",
    "print(results.head())"
   ]
  },
  {
   "cell_type": "code",
   "execution_count": 7,
   "id": "851d5fa7-77bf-405c-b700-e620469e61ba",
   "metadata": {},
   "outputs": [
    {
     "name": "stdout",
     "output_type": "stream",
     "text": [
      "      income        type\n",
      "995  65165.9  Mean of 20\n",
      "996  84587.0  Mean of 20\n",
      "997  77984.5  Mean of 20\n",
      "998  72194.7  Mean of 20\n",
      "999  70188.1  Mean of 20\n"
     ]
    }
   ],
   "source": [
    "print(results.tail())"
   ]
  },
  {
   "cell_type": "markdown",
   "id": "050fb620-60f5-402a-88b1-7a19ed1d00a2",
   "metadata": {},
   "source": [
    "> **Ejercicio 2.4**: *Explique el código de arriba. Con otro dataset de su preferencia repita el ejercicio de arriba.*   "
   ]
  },
  {
   "cell_type": "code",
   "execution_count": 21,
   "id": "b91ec040-66bc-495a-98c5-de863e1a0aa6",
   "metadata": {},
   "outputs": [],
   "source": [
    "# Guardar 'results' en un archivo CSV llamado 'results.csv'\n",
    "# results.to_csv('results.csv', index=False)"
   ]
  },
  {
   "cell_type": "markdown",
   "id": "30866557-210e-4e99-a67e-910c8ac21342",
   "metadata": {},
   "source": [
    "Ahora vamos a obtener los histogramas:"
   ]
  },
  {
   "cell_type": "code",
   "execution_count": 8,
   "id": "383227e5-7545-47fe-91f0-c704f179cc1b",
   "metadata": {},
   "outputs": [
    {
     "data": {
      "image/png": "[encoded data removed]",
      "text/plain": [
       "<Figure size 400x600 with 3 Axes>"
      ]
     },
     "metadata": {},
     "output_type": "display_data"
    }
   ],
   "source": [
    "import seaborn as sns\n",
    "import matplotlib.pyplot as plt\n",
    "\n",
    "\n",
    "g = sns.FacetGrid(results, col='type', col_wrap=1, \n",
    "                  height=2, aspect=2)\n",
    "g.map(plt.hist, 'income', range=[0, 200000], bins=40)\n",
    "g.set_axis_labels('Income', 'Count')\n",
    "g.set_titles('{col_name}')\n",
    "\n",
    "\n",
    "g.fig.suptitle('Figura 2.5', fontsize=14)\n",
    "\n",
    "\n",
    "plt.tight_layout(rect=[0, 0, 1, 0.95])\n",
    "\n",
    "\n",
    "plt.show()"
   ]
  },
  {
   "cell_type": "markdown",
   "id": "2939d97f-befa-48c6-8710-46cbf0f3314d",
   "metadata": {},
   "source": [
    "> **Ejercicio 2.5**: *Explique el codigo dado arriba. Con el mismo dataset usado en el ejercicio 2.4 haga los plots*"
   ]
  },
  {
   "cell_type": "markdown",
   "id": "ce78d9cb-8ebb-4443-8cac-b67ad3a0b51e",
   "metadata": {},
   "source": [
    "El histograma de los valores de datos individuales está ampliamente distribuido y sesgado hacia valores más altos, como es de esperar con los datos de ingresos. Los histogramas de las medias de 5 y 20 valores son cada vez más compactos y tienen una forma más similar a una campana.\n"
   ]
  },
  {
   "cell_type": "markdown",
   "id": "c6368324-5bf6-4ed9-af50-73fd57c48c9e",
   "metadata": {},
   "source": [
    "## 2.4 Teorema del límite central  \n",
    "\n",
    "El fenómeno que acabamos de describir se denomina el teorema del límite central. Este establece que las medias obtenidas de múltiples muestras se asemejarán a la conocida curva normal en forma de campana, incluso si la población de origen no está distribuida normalmente, siempre que el tamaño de la muestra sea lo suficientemente grande y la desviación de los datos respecto a la normalidad no sea demasiado grande. El teorema del límite central permite que se utilicen fórmulas de aproximación normal, como la distribución t por ejemplo."
   ]
  },
  {
   "cell_type": "markdown",
   "id": "8406a07a-4f11-435d-bd19-157e3bf8791b",
   "metadata": {},
   "source": [
    "### Error Estándar\n",
    "\n",
    "El error estándar es una métrica única que resume la variabilidad en la distribución muestral de una estadística. El error estándar puede estimarse usando una estadística basada en la desviación estándar \\( s \\) de los valores de la muestra y el tamaño de la muestra \\( n \\):\n",
    "\n",
    "$\\text{Error estándar} = SE = \\frac{s}{\\sqrt{n}}$\n",
    "\n",
    "A medida que aumenta el tamaño de la muestra, el error estándar disminuye, lo que corresponde a lo observado en la Figura 2.5. \n",
    "\n",
    "Considera el siguiente enfoque para medir el error estándar:\n",
    "\n",
    "1. Recoge una serie de nuevas muestras de la población.\n",
    "2. Para cada nueva muestra, calcula la estadística (por ejemplo, la media).\n",
    "3. Calcula la desviación estándar de las estadísticas calculadas en el paso 2; utiliza esto como tu estimación del error estándar.\n",
    "\n",
    "En la práctica, este enfoque de recolectar nuevas muestras para estimar el error estándar no suele ser muy eficiente. En su lugar, puedes utilizar remuestreo **bootstrap**. En la estadística moderna, el bootstrap se ha convertido en la forma mas usada de estimar el error estándar. Puede utilizarse para prácticamente cualquier estadística y no depende del teorema del límite central u otros supuestos de distribución.\n",
    "\n",
    "### Desviación Estándar versus Error Estándar\n",
    "\n",
    "No confundir la desviación estándar (que mide la variabilidad de puntos de datos individuales) con el error estándar (que mide la variabilidad de una métrica de la muestra).\n",
    "\n",
    "### Ideas Clave\n",
    "\n",
    "- La distribución de frecuencias de una estadística muestral nos dice cómo esa métrica podría variar de una muestra a otra.\n",
    "- Esta distribución muestral puede estimarse a través del bootstrap o mediante fórmulas que dependen del teorema del límite central.\n",
    "- Una métrica clave que resume la variabilidad de una estadística muestral es su error estándar."
   ]
  },
  {
   "cell_type": "markdown",
   "id": "a8ad5a71-2394-4fa3-9aef-f9f4faf0c0d6",
   "metadata": {},
   "source": [
    "## 2.6 Bootstrap\n",
    "\n",
    "Es una técnica de remuestreo que se utiliza para estimar la distribución muestral de una estadística, como la media o los parámetros de un modelo, a partir de una única muestra de datos. El bootstrap es una técnica estadística que consiste en tomar muestras repetidas (con reemplazo) de un conjunto de datos observado para poder estimar la distribución de una estadística muestral. Esto se hace sin necesidad de hacer suposiciones fuertes sobre la distribución original de los datos (por ejemplo, no es necesario asumir que los datos se distribuyen normalmente).\n",
    "\n",
    "### Términos Clave para el Bootstrap\n",
    "\n",
    ">**Bootstrap Sample**  \n",
    "Una muestra tomada con reemplazo de un conjunto de datos observado.\n",
    "\n",
    ">**Remuestreo (Resampling)**  \n",
    "El proceso de tomar muestras repetidas de datos observados; incluye tanto procedimientos de bootstrap como de permutación (shuffling).\n",
    "\n",
    "Conceptualmente, se puede imaginar el bootstrap como replicar la muestra original miles o millones de veces para que tengas una población hipotética que encarna todo el conocimiento de tu muestra original (simplemente es más grande). Luego puedes tomar muestras de esta población hipotética con el propósito de estimar una distribución muestral; ver la Figura 2.6.\n",
    "\n"
   ]
  },
  {
   "cell_type": "markdown",
   "id": "def4410f-21ba-4549-8473-924900eba98a",
   "metadata": {},
   "source": [
    "![Fig 2.6](2.6.png)"
   ]
  },
  {
   "cell_type": "markdown",
   "id": "bb789a25-d5a3-453a-8948-561562d69320",
   "metadata": {},
   "source": [
    "### ¿Cómo funciona el Bootstrap?\n",
    "\n",
    "El proceso de bootstrap se puede resumir en los siguientes pasos:\n",
    "\n",
    "1. **Toma de muestras con reemplazo:**\n",
    "\n",
    "   Se toma una muestra del conjunto de datos original. Lo importante aquí es que esta muestra se toma con reemplazo, lo que significa que después de seleccionar un dato, este se vuelve a colocar en la población para que pueda ser seleccionado de nuevo. Esto permite crear variaciones en las muestras que se parecen a la población original.\n",
    "\n",
    "2. **Cálculo de la estadística:**\n",
    "\n",
    "   Para cada una de estas muestras generadas, se calcula la estadística de interés, como la media, la desviación estándar, o un parámetro de un modelo.\n",
    "\n",
    "3. **Repetición del proceso:**\n",
    "\n",
    "   Este proceso de muestreo y cálculo se repite muchas veces (denotado como \\( R \\) iteraciones). Cada iteración produce una nueva estimación de la estadística.\n",
    "\n",
    "4. **Análisis de los resultados:**\n",
    "\n",
    "   Con el conjunto de estadísticas obtenidas de todas las iteraciones, se pueden calcular métricas adicionales como la desviación estándar de las estadísticas obtenidas (lo que da una estimación del error estándar), se pueden construir intervalos de confianza, o visualizar la distribución muestral con un histograma o un diagrama de caja."
   ]
  },
  {
   "cell_type": "markdown",
   "id": "4de06f61-aeaf-4021-b4e2-336456cee4fa",
   "metadata": {},
   "source": [
    "Los principales paquetes de Python no proporcionan implementaciones del enfoque bootstrap. Sin embargo, se puede implementar utilizando el método `resample` de scikit-learn:"
   ]
  },
  {
   "cell_type": "code",
   "execution_count": 9,
   "id": "5ba27158-212c-48a9-a7fb-027489a543ee",
   "metadata": {},
   "outputs": [
    {
     "name": "stdout",
     "output_type": "stream",
     "text": [
      "Bootstrap Statistics:\n",
      "original: 62000.0\n",
      "bias: -79.29099999999744\n",
      "std. error: 227.78612191337808\n"
     ]
    }
   ],
   "source": [
    "results = []\n",
    "for nrepeat in range(1000):\n",
    "    sample = resample(loans_income)\n",
    "    results.append(sample.median())\n",
    "results = pd.Series(results)\n",
    "print('Bootstrap Statistics:')\n",
    "print(f'original: {loans_income.median()}')\n",
    "print(f'bias: {results.mean() - loans_income.median()}')\n",
    "print(f'std. error: {results.std()}')"
   ]
  },
  {
   "cell_type": "markdown",
   "id": "18c5ead9-ed1a-49c9-914d-d597da169327",
   "metadata": {},
   "source": [
    "1. **Original: 62000.0**\n",
    "   - Este valor es la mediana original de los ingresos (`loans_income`) antes de aplicar el bootstrap. La mediana es el valor que separa la mitad superior de los ingresos de la mitad inferior. En este caso, la mediana de los ingresos en la muestra original es de **62,000**.\n",
    "\n",
    "2. **Bias: -79.29099999999744**\n",
    "   - El sesgo (**bias**) se calcula como la diferencia entre la media de las medianas obtenidas en las iteraciones del bootstrap y la mediana original de los datos. En este caso, el sesgo es de aproximadamente **-79.29099999999744**, lo que indica que, en promedio, las medianas calculadas a partir de las muestras bootstrap son ligeramente menores que la mediana original. Un sesgo negativo sugiere que las muestras tienden a subestimar la mediana original.\n",
    "\n",
    "En el contexto del bootstrap, el **sesgo** (bias) se refiere a la diferencia sistemática entre la estimación obtenida a partir de los datos muestrales (en este caso, las medianas obtenidas a través del bootstrap) y el valor observado en los datos originales (la mediana original de los ingresos).\n",
    "\n",
    "En la salida proporcionada, el sesgo obtenido significa que, en promedio, las medianas calculadas a partir de las 1,000 muestras bootstrap son **76.830 unidades menores** que la mediana original de la muestra de ingresos (`loans_income`).\n",
    "\n",
    " **Dirección del Sesgo**:\n",
    "   - El signo negativo (-) indica la dirección del sesgo. En este caso, sugiere que las muestras bootstrap tienden a subestimar la mediana verdadera de la población. Si el sesgo fuera positivo, implicaría una sobreestimación sistemática.\n",
    "\n",
    " **Magnitud del Sesgo**:\n",
    "   - La magnitud del sesgo (79.30) nos da una idea de cuánto difieren, en promedio, las medianas bootstrap de la mediana original. Aunque un sesgo de -76.830 podría parecer pequeño en relación con la mediana original de 62,000, es importante en contextos donde la precisión es crítica.\n",
    "\n",
    "El sesgo puede surgir por varias razones, incluyendo:\n",
    "\n",
    "- **Naturaleza de la Muestra Original**: Si la muestra original no es completamente representativa de la población subyacente, el bootstrap podría reflejar y amplificar ese sesgo.\n",
    "- **Distribución Asimétrica de los Datos**: Si los datos están sesgados (por ejemplo, con una cola larga a la derecha), la mediana en las muestras bootstrap podría estar sistemáticamente desviada hacia un lado en relación con la mediana original.\n",
    "\n",
    "\n",
    "3. **Std. error: 227.78612191337808**\n",
    "   - El error estándar (**std. error**) mide la variabilidad de las medianas obtenidas a partir del bootstrap. Es una estimación de la desviación estándar de la distribución muestral de la mediana. En este caso, el error estándar es de aproximadamente **227.78612191337808**, lo que proporciona una idea de cuánto podrían variar las medianas si se tomaran diferentes muestras de la misma población."
   ]
  },
  {
   "cell_type": "markdown",
   "id": "4fac2334-af51-43af-8dfb-1173d052d1da",
   "metadata": {},
   "source": [
    "> **Ejercicio 2.6:** Explicar el código de bootstrap dado arriba. Con otra dataset de tu preferencia repite el código de arriba e interpreta resultados. "
   ]
  },
  {
   "cell_type": "markdown",
   "id": "ba832b8f-a1b0-4541-81fd-2dd923a6fd5b",
   "metadata": {
    "jp-MarkdownHeadingCollapsed": true
   },
   "source": [
    "# 2.7 Intervalos de confianza."
   ]
  },
  {
   "cell_type": "markdown",
   "id": "e70edad5-f977-43c3-ae7b-156e8feba689",
   "metadata": {},
   "source": [
    "Las tablas de frecuencias, histogramas, diagramas de caja (boxplots) y errores estándar son formas de entender el posible error en una estimación muestral. Los intervalos de confianza tambien ayudan a encontrar dichos errores.\n",
    "\n",
    "Existe una aversión natural a la incertidumbre; las personas (especialmente los expertos) dicen \"No sé\" con demasiada poca frecuencia. Los analistas y gerentes, aunque reconocen la incertidumbre, tienden a depositar una fe excesiva en una estimación cuando se presenta como un solo número (una estimación puntual). Presentar una estimación no como un solo número, sino como un rango. Los intervalos de confianza hacen esto de una manera fundamentada en los principios del muestreo estadístico.\n",
    "\n",
    "Un intervalo de confianza es un rango de valores, derivado de datos muestrales, que se utiliza para estimar un parámetro desconocido de una población. Este rango viene acompañado de un nivel de confianza que indica la probabilidad de que el intervalo contenga el verdadero valor del parámetro poblacional.\n",
    "\n",
    "En términos prácticos, si se construye un intervalo de confianza del 95% a partir de una muestra, esto significa que si se tomaran muchas muestras similares y se construyeran intervalos de confianza para cada una, aproximadamente el 95% de esos intervalos contendrían el verdadero valor del parámetro poblacional.\n",
    "\n",
    "Por ejemplo, si calculas un intervalo de confianza del 95% para la media de una población, el intervalo te proporcionará un rango de valores dentro del cual es razonable esperar que caiga la verdadera media poblacional, con un 95% de certeza."
   ]
  },
  {
   "cell_type": "code",
   "execution_count": 2,
   "id": "2b44bb60-ff10-4dc2-9c55-e10f9c7e86d1",
   "metadata": {},
   "outputs": [
    {
     "name": "stdout",
     "output_type": "stream",
     "text": [
      "Media de la muestra: 48.96\n",
      "Intervalo de confianza del 95%: (47.16, 50.76)\n"
     ]
    }
   ],
   "source": [
    "import numpy as np\n",
    "import scipy.stats as stats\n",
    "\n",
    "np.random.seed(42)\n",
    "data = np.random.normal(loc=50, scale=10, size=100)  # Media = 50, Desviación estándar = 10, Tamaño de la muestra = 100\n",
    "\n",
    "mean = np.mean(data)\n",
    "\n",
    "sem = stats.sem(data)  # sem = standard error of the mean\n",
    "\n",
    "confidence_interval = stats.t.interval(0.95, len(data)-1, loc=mean, scale=sem)\n",
    "\n",
    "ci_lower = float(confidence_interval[0])\n",
    "ci_upper = float(confidence_interval[1])\n",
    "\n",
    "print(f\"Media de la muestra: {mean:.2f}\")\n",
    "print(f\"Intervalo de confianza del 95%: ({ci_lower:.2f}, {ci_upper:.2f})\")"
   ]
  },
  {
   "cell_type": "markdown",
   "id": "0da55280-834a-41dd-9d12-6e388de2fb65",
   "metadata": {},
   "source": [
    "**Media de la muestra**:\n",
    "La media de los datos generados es 48.96. Esto es la estimación puntual de la media de la población.  \n",
    "\n",
    "**Intervalo de Confianza del 95%:**\n",
    "El intervalo de confianza del 95% para la media está entre 47.16 y 50.76.\n",
    "Esto significa que, si tomamos muchas muestras de la misma población y calculamos un intervalo de confianza del 95% para cada una, aproximadamente el 95% de esos intervalos contendrán la verdadera media poblacional.\n",
    "En este caso, podemos estar un 95% seguros de que la verdadera media de la población de la cual proviene la muestra se encuentra entre 47.16 y 50.76."
   ]
  },
  {
   "cell_type": "markdown",
   "id": "3ae89ca8-d3ee-48f5-95de-81e3d2a7c5d2",
   "metadata": {},
   "source": [
    "> **Ejercicio 2.7**: Explicar cada linea del codigo. Repite el ejercicio con otra muestra de datos y usando un intervalo de confianza del 98%"
   ]
  },
  {
   "cell_type": "markdown",
   "id": "f67a7b03-d863-40b8-b0de-0d5c172c1532",
   "metadata": {},
   "source": [
    "> **Ejercicio 2.8**. Repetir el ejemplo anterior pero esta vez utilice statsmodels en vez de scipy. Compare resultados."
   ]
  },
  {
   "cell_type": "markdown",
   "id": "cd07efba-9195-4208-a105-e35bd9d1fe73",
   "metadata": {},
   "source": [
    "Dado un tamaño de muestra \\( n \\), y una estadística muestral de interés, el algoritmo para un intervalo de confianza bootstrap es el siguiente:\n",
    "\n",
    "1. Tomar una muestra aleatoria de tamaño \\( n \\) con reemplazo de los datos (un remuestreo).\n",
    "2. Registrar la estadística de interés para el remuestreo.\n",
    "   \n",
    "   **Estadística de interés**: Puede ser cualquier medida que estés estudiando, como la media, la mediana, la desviación estándar, etc. Después de tomar la muestra con reemplazo en el paso 1, calculas esta estadística para la muestra seleccionada.\n",
    "4. Repetir los pasos 1-2 muchas veces (\\( R \\) veces). Cuantas más iteraciones hagas, más precisa será la estimación del intervalo de confianza.\n",
    "5. Para un intervalo de confianza de x%, recortar $\\left[\\frac{100-x}{2}\\right]\\%$ de los resultados de los \\( R \\) remuestreos desde cada extremo de la distribución.\n",
    "   \n",
    "   **Recorte:** Después de tener todas las estadísticas calculadas en los \\( R \\) remuestreos, ordenas estas estadísticas de menor a mayor. Luego, para un intervalo de confianza de  $x\\%$, recortas los valores extremos, es decir, eliminas el $\\left[\\frac{100-x}{2}\\right]\\%$ de los valores más bajos y el mismo porcentaje de los valores más altos. Por ejemplo, para un intervalo de confianza del 95%, recortarías el 2.5% inferior y el 2.5% superior de las estadísticas obtenidas de los 𝑅 remuestreos.\n",
    "\n",
    "7. Los puntos de recorte son los extremos de un intervalo de confianza bootstrap de  $x\\%$ .\n",
    "   \n",
    "   Puntos de recorte: Después de recortar los extremos, los valores más bajo y más alto que quedan forman los extremos del intervalo de confianza. Es decir, el intervalo de confianza estará entre estos dos puntos, y con un 𝑥% de confianza, podemos decir que este intervalo contiene la verdadera estadística poblacional."
   ]
  },
  {
   "cell_type": "markdown",
   "id": "29327f86-3fa6-4745-8b12-34d67f728f21",
   "metadata": {},
   "source": [
    "La Figura 2.9 muestra un intervalo de confianza del 90% para el ingreso anual promedio de los solicitantes de préstamos, basado en una muestra de 20 en la que la media fue de $55.836.\n"
   ]
  },
  {
   "cell_type": "markdown",
   "id": "b8fb0b15-60c0-4edf-85b0-991e26483e01",
   "metadata": {},
   "source": [
    "![Fig 2.7](2.7.png)"
   ]
  },
  {
   "cell_type": "code",
   "execution_count": null,
   "id": "e93f2d9a-4f13-4403-a1b4-cdd30ef62fd6",
   "metadata": {},
   "outputs": [],
   "source": []
  },
  {
   "cell_type": "code",
   "execution_count": 10,
   "id": "603d4ff2-23dd-4d47-b560-60c3999d19f2",
   "metadata": {},
   "outputs": [
    {
     "name": "stdout",
     "output_type": "stream",
     "text": [
      "68760.51844\n",
      "55734.1\n"
     ]
    },
    {
     "data": {
      "image/png": "[encoded data removed]",
      "text/plain": [
       "<Figure size 400x300 with 1 Axes>"
      ]
     },
     "metadata": {},
     "output_type": "display_data"
    }
   ],
   "source": [
    "print(loans_income.mean())\n",
    "np.random.seed(seed=3)  \n",
    "# create a sample of 20 loan income data\n",
    "sample20 = resample(loans_income, n_samples=20, replace=False)\n",
    "print(sample20.mean())\n",
    "results = []\n",
    "for nrepeat in range(500):\n",
    "    sample = resample(sample20)\n",
    "    results.append(sample.mean())\n",
    "results = pd.Series(results)\n",
    "\n",
    "confidence_interval = list(results.quantile([0.05, 0.95]))\n",
    "ax = results.plot.hist(bins=30, figsize=(4, 3))\n",
    "ax.plot(confidence_interval, [55, 55], color='black')\n",
    "for x in confidence_interval:\n",
    "    ax.plot([x, x], [0, 65], color='black')\n",
    "    ax.text(x, 70, f'{x:.0f}', \n",
    "            horizontalalignment='center', verticalalignment='center')\n",
    "ax.text(sum(confidence_interval) / 2, 60, '90% interval',\n",
    "        horizontalalignment='center', verticalalignment='center')\n",
    "\n",
    "meanIncome = results.mean()\n",
    "ax.plot([meanIncome, meanIncome], [0, 50], color='black', linestyle='--')\n",
    "ax.text(meanIncome, 10, f'Mean: {meanIncome:.0f}',\n",
    "        bbox=dict(facecolor='white', edgecolor='white', alpha=0.5),\n",
    "        horizontalalignment='center', verticalalignment='center')\n",
    "ax.set_ylim(0, 80)\n",
    "ax.set_ylabel('Counts')\n",
    "\n",
    "plt.tight_layout()\n",
    "plt.show()"
   ]
  },
  {
   "cell_type": "markdown",
   "id": "24efa578-47ee-4bb2-a641-279124049eae",
   "metadata": {},
   "source": [
    "El bootstrap es una herramienta general que se puede utilizar para generar intervalos de confianza para la mayoría de las estadísticas o parámetros de modelos. Los libros de texto de estadística y el software, con raíces en más de medio siglo de análisis estadístico sin computadoras, también hacen referencia a intervalos de confianza generados por fórmulas, especialmente la distribución t.\n",
    "\n",
    "Por supuesto, lo que realmente nos interesa cuando tenemos un resultado muestral es: \"¿Cuál es la probabilidad de que el valor verdadero esté dentro de un cierto intervalo?\" Esta no es realmente la pregunta que responde un intervalo de confianza, pero termina siendo la forma en que la mayoría de las personas interpretan la respuesta.\n",
    "\n",
    "El porcentaje asociado con el intervalo de confianza se denomina nivel de confianza. Cuanto mayor sea el nivel de confianza, más amplio será el intervalo. Esto sucede porque, al querer estar más seguro de que el intervalo contiene el valor verdadero, se necesita un rango más amplio para cubrir todas las posibles variaciones en los datos muestrales. Por ejemplo, un intervalo de confianza del 99% será más amplio que un intervalo de confianza del 95%, porque queremos estar más seguros (99% en lugar de 95%) de que el intervalo contiene el valor verdadero, y para lograr esa mayor seguridad, ampliamos el intervalo.\n",
    "\n",
    "Además, cuanto más pequeña sea la muestra, más amplio será el intervalo (es decir, mayor será la incertidumbre). Esto sucede porque con menos datos, hay más incertidumbre acerca de la estimación del parámetro verdadero. Para compensar esa incertidumbre, se necesita un intervalo más amplio.  \n",
    "\n",
    "Ambos aspectos tienen sentido: cuanto más seguro quieres estar, y cuanto menos datos tienes, más amplio debe ser el intervalo de confianza para estar suficientemente seguro de capturar el valor verdadero. Un tamaño de muestra pequeño significa que tienes menos información sobre la población, lo que introduce más variabilidad e incertidumbre en tus estimaciones. Para tener la misma seguridad (por ejemplo, un 95% de confianza), el intervalo debe ser más amplio para asegurarse de que incluye el valor verdadero, dado que hay más margen de error. Por el contrario, con un tamaño de muestra más grande, tienes más información, lo que reduce la incertidumbre y permite calcular un intervalo de confianza más estrecho.\n",
    "\n",
    "**Ejemplo para Ilustrar el Concepto**  \n",
    "\n",
    "Imagina que estás midiendo la altura promedio de estudiantes en una escuela. Si quieres estar 95% seguro de que el intervalo de confianza contiene la altura promedio verdadera, el intervalo podría ser algo así como de 160 cm a 170 cm. Si decides que necesitas estar 99% seguro, podrías necesitar ampliar el intervalo a algo como de 155 cm a 175 cm para capturar todas las posibles variaciones. Si tomas la altura de solo 5 estudiantes (una muestra pequeña), podrías obtener un intervalo de confianza de 150 cm a 180 cm debido a la mayor incertidumbre. Pero si tomas la altura de 50 estudiantes (una muestra más grande), podrías obtener un intervalo más preciso, digamos de 160 cm a 170 cm.\n",
    "\n",
    "### Ideas Clave\n",
    "- Los intervalos de confianza son la forma típica de presentar estimaciones como un rango de intervalos.\n",
    "- Cuantos más datos tengas, menos variable será una estimación muestral.\n",
    "- Cuanto menor sea el nivel de confianza que puedas tolerar, más estrecho será el intervalo de confianza.\n",
    "- El bootstrap es una forma efectiva de construir intervalos de confianza."
   ]
  },
  {
   "cell_type": "markdown",
   "id": "dc439092-a082-465a-831e-67bd070b6b13",
   "metadata": {},
   "source": [
    "> **Ejercicio 2.9**. Investigar las aplicaiones y casos de uso de Bootstraping en Machine Learning. Mostrar los resultados en un resumen."
   ]
  },
  {
   "cell_type": "markdown",
   "id": "5e9e7020-2488-43fe-a008-b147e3f2cf05",
   "metadata": {},
   "source": [
    "> **Ejercicio 2.10** Replicar en un jupyter notebook los resultados del siguiente artículo: https://cienciadedatos.net/documentos/pystats04-bootstrapping-python\n",
    "> Nota: Con replicar los codigos sería suficiente para entregar; replicar la teoria es opcional aunque por lo menos debes leerla si realmente quieres entender la importancia del Bootstrapping "
   ]
  },
  {
   "cell_type": "code",
   "execution_count": null,
   "id": "7b60b90d-ce35-4c2c-bfb1-7b26efdfdc14",
   "metadata": {},
   "outputs": [],
   "source": []
  }
 ],
 "metadata": {
  "kernelspec": {
   "display_name": "Python 3 (ipykernel)",
   "language": "python",
   "name": "python3"
  },
  "language_info": {
   "codemirror_mode": {
    "name": "ipython",
    "version": 3
   },
   "file_extension": ".py",
   "mimetype": "text/x-python",
   "name": "python",
   "nbconvert_exporter": "python",
   "pygments_lexer": "ipython3",
   "version": "3.12.5"
  }
 },
 "nbformat": 4,
 "nbformat_minor": 5
}
